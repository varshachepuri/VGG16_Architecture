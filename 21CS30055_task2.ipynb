{
  "cells": [
    {
      "cell_type": "markdown",
      "metadata": {
        "id": "qefdZCxTA5lJ"
      },
      "source": [
        "* Submit the assignment with roll_number as *roll_number*.ipynb file."
      ]
    },
    {
      "cell_type": "markdown",
      "metadata": {
        "id": "MwJcOmdl5L8R"
      },
      "source": [
        "# Task-1 : Implement VGG16 on Food101 dataset.\n",
        "Your first task would be to implement the VGG16 architecture model class and train a classification model on the Food101 dataset using the above architecture. The details of the dataset are given below.  "
      ]
    },
    {
      "cell_type": "markdown",
      "metadata": {
        "id": "T67LTixs414X"
      },
      "source": [
        "### 1.1 Import packages\n",
        "Some packages are imported. However, you would need to import any other package that is required in the implementation that you feel is required. But do keep in mind, your model shouldn't be imported. It has to be implemented using the basic convolution layers."
      ]
    },
    {
      "cell_type": "code",
      "execution_count": 2,
      "metadata": {
        "id": "wQZ-oNMg41JP"
      },
      "outputs": [],
      "source": [
        "import torch\n",
        "import torch.nn as nn\n",
        "import torch.nn.functional as F\n",
        "import torchvision\n",
        "from torchvision import datasets\n",
        "from torchvision.transforms import ToTensor\n",
        "import matplotlib.pyplot as plt\n",
        "import torchvision.transforms as transforms\n",
        "import torch.optim as optim\n",
        "import random\n",
        "import os\n",
        "from torch.utils.data import Dataset,DataLoader"
      ]
    },
    {
      "cell_type": "markdown",
      "metadata": {
        "id": "WayE7oW1bP6e"
      },
      "source": []
    },
    {
      "cell_type": "markdown",
      "metadata": {
        "id": "9mcZ2QAEHCIr"
      },
      "source": [
        "### 1.2. Dataset\n",
        "The Food-101 is a challenging data set of 101 food categories with 101,000 images. All images were rescaled to have a maximum side length of 512 pixels. Implementing the below cell will allow you to download the dataset into your colab directory under ```/data/food-101```.\n",
        "Inside the directory you would find the information about the dataset and also a ReadMe.txt file.\n",
        "\n",
        "Now, the image size of the dataset is ```(512,512,3)```. However, the model expects the image to be of the size ```(224,224,3)```. Now using the transforms method, write a composed transformation where you implement the resize as well as convert to tensor function. Do some basic preprocessing as well, Normalisation, Standardization etc. \\\n",
        "Hint : use the ``` transform.Compose() ``` method.\n",
        "\n",
        "\n"
      ]
    },
    {
      "cell_type": "code",
      "execution_count": 3,
      "metadata": {
        "id": "lvlZd_w0yA56"
      },
      "outputs": [],
      "source": [
        "### YOUR CODE STARTS HERE ###\n",
        "transform = transforms.Compose([\n",
        "    transforms.Resize((224, 224)),  # Resizing the image to (224, 224)\n",
        "    transforms.ToTensor(),\n",
        "    transforms.Normalize(mean=[0.485, 0.456, 0.406], std=[0.229, 0.224, 0.225])  # Normalizing the image\n",
        "])\n",
        "\n",
        "### YOUR CODE ENDS HERE ###"
      ]
    },
    {
      "cell_type": "code",
      "execution_count": 4,
      "metadata": {
        "colab": {
          "base_uri": "https://localhost:8080/"
        },
        "id": "PhKoQBi_7NWi",
        "outputId": "48cbb0e7-74a9-4b44-c286-b7f9f96dfe24"
      },
      "outputs": [
        {
          "output_type": "stream",
          "name": "stdout",
          "text": [
            "Downloading https://data.vision.ee.ethz.ch/cvl/food-101.tar.gz to data/food-101.tar.gz\n"
          ]
        },
        {
          "output_type": "stream",
          "name": "stderr",
          "text": [
            "100%|██████████| 4996278331/4996278331 [04:38<00:00, 17948685.54it/s]\n"
          ]
        },
        {
          "output_type": "stream",
          "name": "stdout",
          "text": [
            "Extracting data/food-101.tar.gz to data\n"
          ]
        }
      ],
      "source": [
        "# Setup training data\n",
        "train_data = datasets.Food101(\n",
        "    root=\"data\",\n",
        "    split=\"train\", # get training data\n",
        "    download=True,\n",
        "    transform=transform\n",
        ")\n",
        "\n",
        "# Setup testing data\n",
        "test_data = datasets.Food101(\n",
        "    root=\"data\",\n",
        "    split=\"test\", # get test data\n",
        "    download=True,\n",
        "    transform=transform\n",
        ")"
      ]
    },
    {
      "cell_type": "markdown",
      "metadata": {
        "id": "hytfgzRzPqX8"
      },
      "source": [
        "For visualization, we randomly select 10 classes of the dataset and plot corresponding images."
      ]
    },
    {
      "cell_type": "code",
      "execution_count": 5,
      "metadata": {
        "id": "A1q_i8mJa8He"
      },
      "outputs": [],
      "source": [
        "class ReducedFood101Dataset(Dataset):\n",
        "    def __init__(self, original_dataset, transform=None, samples_per_class=5):\n",
        "        \"\"\"\n",
        "        Args:\n",
        "            original_dataset (Dataset): Original PyTorch dataset.\n",
        "            transform (callable, optional): Optional transform to be applied on a sample.\n",
        "            samples_per_class (int): Number of samples to take from each class.\n",
        "        \"\"\"\n",
        "        self.original_dataset = original_dataset\n",
        "        self.transform = transform\n",
        "        self.samples_per_class = samples_per_class\n",
        "        self.data = []\n",
        "\n",
        "        # Reducing the dataset\n",
        "        self.reduce_dataset()\n",
        "\n",
        "    def reduce_dataset(self):\n",
        "        class_counts = {}\n",
        "        # Counting  number of samples per class\n",
        "        for idx in range(len(self.original_dataset)):\n",
        "            _, label = self.original_dataset[idx]\n",
        "            if label not in class_counts:\n",
        "                class_counts[label] = 1\n",
        "            else:\n",
        "                class_counts[label] += 1\n",
        "\n",
        "        # Randomly selecting 'samples_per_class' images from each class\n",
        "        for idx in range(len(self.original_dataset)):\n",
        "            image, label = self.original_dataset[idx]\n",
        "            if class_counts[label] <= self.samples_per_class:\n",
        "                self.data.append((image, label))\n",
        "            else:\n",
        "                class_counts[label] -= 1\n",
        "                if random.random() < self.samples_per_class / class_counts[label]:\n",
        "                    self.data.append((image, label))\n",
        "\n",
        "    def __len__(self):\n",
        "        return len(self.data)\n",
        "\n",
        "    def __getitem__(self, idx):\n",
        "        image, label = self.data[idx]\n",
        "\n",
        "        if self.transform:\n",
        "            image = self.transform(image)\n",
        "\n",
        "        return image, label\n"
      ]
    },
    {
      "cell_type": "code",
      "execution_count": 6,
      "metadata": {
        "id": "ysQY_cFxbq24"
      },
      "outputs": [],
      "source": [
        "#Reducing train data\n",
        "train_data = ReducedFood101Dataset(train_data,samples_per_class = 5)"
      ]
    },
    {
      "cell_type": "code",
      "execution_count": 7,
      "metadata": {
        "id": "Ut2YVFJEkU46"
      },
      "outputs": [],
      "source": [
        "#Reducing test data\n",
        "test_data = ReducedFood101Dataset(test_data,samples_per_class = 5)"
      ]
    },
    {
      "cell_type": "code",
      "execution_count": 8,
      "metadata": {
        "colab": {
          "base_uri": "https://localhost:8080/"
        },
        "id": "zsN53Bp8XWBY",
        "outputId": "d9dd5082-119f-4a84-ed15-909e0e3c756e"
      },
      "outputs": [
        {
          "output_type": "execute_result",
          "data": {
            "text/plain": [
              "(tensor([[[-1.6042, -1.6384, -1.6727,  ..., -2.0665, -2.0494, -2.0152],\n",
              "          [-1.6384, -1.6555, -1.6727,  ..., -2.0323, -2.0665, -2.0665],\n",
              "          [-1.7240, -1.6898, -1.6898,  ..., -2.0837, -2.0837, -2.0837],\n",
              "          ...,\n",
              "          [-2.0837, -2.0837, -2.0837,  ..., -2.1008, -2.1008, -2.1008],\n",
              "          [-2.1008, -2.0837, -2.0837,  ..., -2.1008, -2.1008, -2.1008],\n",
              "          [-2.1008, -2.1008, -2.0665,  ..., -2.1008, -2.1008, -2.1008]],\n",
              " \n",
              "         [[-1.6856, -1.7206, -1.7556,  ..., -1.9832, -1.9657, -1.9307],\n",
              "          [-1.7206, -1.7381, -1.7556,  ..., -1.9482, -1.9832, -1.9832],\n",
              "          [-1.8081, -1.7731, -1.7731,  ..., -2.0007, -2.0007, -2.0007],\n",
              "          ...,\n",
              "          [-2.0007, -2.0007, -2.0007,  ..., -2.0182, -2.0182, -2.0182],\n",
              "          [-2.0182, -2.0007, -2.0007,  ..., -2.0182, -2.0182, -2.0182],\n",
              "          [-2.0182, -2.0182, -1.9832,  ..., -2.0182, -2.0182, -2.0182]],\n",
              " \n",
              "         [[-1.6127, -1.6476, -1.6824,  ..., -1.7870, -1.7696, -1.7347],\n",
              "          [-1.6476, -1.6650, -1.6824,  ..., -1.7522, -1.7870, -1.7870],\n",
              "          [-1.7347, -1.6999, -1.6999,  ..., -1.8044, -1.8044, -1.7870],\n",
              "          ...,\n",
              "          [-1.8044, -1.8044, -1.8044,  ..., -1.7870, -1.7870, -1.7870],\n",
              "          [-1.8044, -1.8044, -1.8044,  ..., -1.7870, -1.7870, -1.7870],\n",
              "          [-1.8044, -1.8044, -1.7870,  ..., -1.7870, -1.7870, -1.7870]]]),\n",
              " 23)"
            ]
          },
          "metadata": {},
          "execution_count": 8
        }
      ],
      "source": [
        "\n",
        "image,label = train_data[0]\n",
        "image ,label"
      ]
    },
    {
      "cell_type": "code",
      "execution_count": 9,
      "metadata": {
        "colab": {
          "base_uri": "https://localhost:8080/"
        },
        "id": "eR_B68qFXWBZ",
        "outputId": "6434d8e6-0dd1-468a-9589-97bb24e8a6ab"
      },
      "outputs": [
        {
          "output_type": "execute_result",
          "data": {
            "text/plain": [
              "torch.Size([3, 224, 224])"
            ]
          },
          "metadata": {},
          "execution_count": 9
        }
      ],
      "source": [
        "image.shape"
      ]
    },
    {
      "cell_type": "markdown",
      "metadata": {
        "id": "CGZQPgjzQIps"
      },
      "source": [
        "### 1.3. Prepare Dataloader\n",
        "Now, in the cell below implement the DataLoader function for the train and test data. You then have to print the length of the train and test dataloaders."
      ]
    },
    {
      "cell_type": "code",
      "execution_count": 10,
      "metadata": {
        "colab": {
          "base_uri": "https://localhost:8080/"
        },
        "id": "rRh7xU_mQIFa",
        "outputId": "ddae5ae7-2870-419f-af10-d16d04373ed0"
      },
      "outputs": [
        {
          "output_type": "stream",
          "name": "stdout",
          "text": [
            "Length of train dataloader: 99 batches of 32\n",
            "Length of test dataloader: 80 batches of 32\n"
          ]
        }
      ],
      "source": [
        "from torch.utils.data import DataLoader\n",
        "\n",
        "BATCH_SIZE = 32\n",
        "\n",
        "### YOUR CODE STARTS HERE ###\n",
        "#splitting data into batches of size 32\n",
        "train_dataloader = DataLoader(train_data,batch_size = BATCH_SIZE,shuffle = True)\n",
        "test_dataloader = DataLoader(test_data,batch_size = BATCH_SIZE,shuffle = True)\n",
        "### YOUR CODE ENDS HERE ###\n",
        "\n",
        "\n",
        "\n",
        "print(f\"Length of train dataloader: {len(train_dataloader)} batches of {BATCH_SIZE}\")\n",
        "print(f\"Length of test dataloader: {len(test_dataloader)} batches of {BATCH_SIZE}\")"
      ]
    },
    {
      "cell_type": "code",
      "execution_count": 11,
      "metadata": {
        "colab": {
          "base_uri": "https://localhost:8080/"
        },
        "id": "cHTV31HSXWBa",
        "outputId": "e9d00f1b-192d-4d0e-8c7b-2dc167d8a2aa"
      },
      "outputs": [
        {
          "output_type": "execute_result",
          "data": {
            "text/plain": [
              "(torch.Size([32, 3, 224, 224]), torch.Size([32]))"
            ]
          },
          "metadata": {},
          "execution_count": 11
        }
      ],
      "source": [
        "\n",
        "train_features_batch, train_labels_batch = next(iter(train_dataloader))\n",
        "train_features_batch.shape, train_labels_batch.shape"
      ]
    },
    {
      "cell_type": "markdown",
      "metadata": {
        "id": "x3yEGpLlI43d"
      },
      "source": [
        "### 1.4. VGG16 Architecture\n",
        "Now, create a model class and implement the VGG16 architecture. The architecture layer is as follows :\n",
        "![Alt text](https://miro.medium.com/v2/resize:fit:1400/format:webp/0*6VP81rFoLWp10FcG)\n",
        "![Alt text](https://miro.medium.com/v2/resize:fit:1400/format:webp/0*0M8CobXpNwFDCmOQ)\n",
        "\n",
        "VGG16 takes input tensor size as 224, 244 with 3 RGB channel. It has 13 convolutional layers, 5 Max Pooling layers, and 3 Dense layers which sum up to 21 layers.\n",
        "\n"
      ]
    },
    {
      "cell_type": "markdown",
      "metadata": {
        "id": "5GwusN09WgRZ"
      },
      "source": [
        "Implement the model class in the given cell below. DONOT change the class name as that would be required in the next cell."
      ]
    },
    {
      "cell_type": "markdown",
      "metadata": {
        "id": "5CVur0N2BflL"
      },
      "source": [
        "# Task-2 : Finetuning VGG16\n",
        "In this task, you would use the concept of transfer learning to train a pretrained model of VGG16 on the Food101 dataset. You would use the pretrained model of vgg16 from the pytorch library and use a classification head having the number of classes same as given in the dataset(as like above). Use cross entropy loss and SGD optimizer to train on the training data. Report the accuracy measure of the previous model (from scratch) and this finetuned version. Prepare a graph showing the accuracy of the models."
      ]
    },
    {
      "cell_type": "code",
      "execution_count": 16,
      "metadata": {
        "id": "2CkbdoWvBgX8",
        "colab": {
          "base_uri": "https://localhost:8080/"
        },
        "outputId": "3844cd8a-6180-4f57-e8ae-b09ceba35e4b"
      },
      "outputs": [
        {
          "output_type": "stream",
          "name": "stderr",
          "text": [
            "/usr/local/lib/python3.10/dist-packages/torchvision/models/_utils.py:208: UserWarning: The parameter 'pretrained' is deprecated since 0.13 and may be removed in the future, please use 'weights' instead.\n",
            "  warnings.warn(\n",
            "/usr/local/lib/python3.10/dist-packages/torchvision/models/_utils.py:223: UserWarning: Arguments other than a weight enum or `None` for 'weights' are deprecated since 0.13 and may be removed in the future. The current behavior is equivalent to passing `weights=VGG16_Weights.IMAGENET1K_V1`. You can also use `weights=VGG16_Weights.DEFAULT` to get the most up-to-date weights.\n",
            "  warnings.warn(msg)\n",
            "Downloading: \"https://download.pytorch.org/models/vgg16-397923af.pth\" to /root/.cache/torch/hub/checkpoints/vgg16-397923af.pth\n",
            "100%|██████████| 528M/528M [00:07<00:00, 76.7MB/s]\n"
          ]
        }
      ],
      "source": [
        "### YOUR CODE STARTS HERE ###\n",
        "import torchvision.models as models\n",
        "#downloading vgg 16 model\n",
        "vgg16 = models.vgg16(pretrained = True)\n",
        "num_classes = 101\n",
        "vgg16.classifier[6] = nn.Linear(4096,num_classes)\n",
        "device = torch.device('cuda' if torch.cuda.is_available() else 'cpu')\n",
        "learning_rate = 0.001\n",
        "criterion = nn.CrossEntropyLoss()\n",
        "optimizer = optim.SGD(vgg16.parameters(), lr=learning_rate,momentum = 0.9)\n",
        "vgg16 = vgg16.to(device)\n",
        "\n",
        "\n",
        "\n",
        "### YOUR CODE ENDS HERE ###"
      ]
    },
    {
      "cell_type": "code",
      "execution_count": 17,
      "metadata": {
        "id": "NxSg8U5mo0Id"
      },
      "outputs": [],
      "source": [
        "#defining finetune model\n",
        "def train_finetune_model(model, train_loader, num_epochs):\n",
        "    train_losses = []\n",
        "    for epoch in range(num_epochs):\n",
        "        model.train()  # Set the model to training mode\n",
        "        running_loss = 0.0\n",
        "        for images, labels in train_loader:\n",
        "            images = images.to(device)\n",
        "            labels = labels.to(device)\n",
        "            optimizer.zero_grad()\n",
        "            outputs = model(images)\n",
        "            loss = criterion(outputs, labels)\n",
        "            loss.backward()\n",
        "            optimizer.step()\n",
        "            running_loss += loss.item() * images.size(0)\n",
        "        epoch_loss = running_loss / len(train_loader.dataset)\n",
        "        train_losses.append(epoch_loss)\n",
        "        print('Epoch [{}/{}], Loss: {:.4f}'.format(epoch+1, num_epochs, epoch_loss))\n",
        "    return train_losses"
      ]
    },
    {
      "cell_type": "code",
      "execution_count": 18,
      "metadata": {
        "colab": {
          "base_uri": "https://localhost:8080/"
        },
        "id": "Q4gGI2EOpstH",
        "outputId": "3f3c9c95-e9ac-4bc2-a707-0f595e010c67"
      },
      "outputs": [
        {
          "output_type": "stream",
          "name": "stdout",
          "text": [
            "Epoch [1/10], Loss: 4.2833\n",
            "Epoch [2/10], Loss: 2.9519\n",
            "Epoch [3/10], Loss: 2.1845\n",
            "Epoch [4/10], Loss: 1.6282\n",
            "Epoch [5/10], Loss: 1.1808\n",
            "Epoch [6/10], Loss: 0.8547\n",
            "Epoch [7/10], Loss: 0.5540\n",
            "Epoch [8/10], Loss: 0.4452\n",
            "Epoch [9/10], Loss: 0.3154\n",
            "Epoch [10/10], Loss: 0.2549\n"
          ]
        }
      ],
      "source": [
        "num_epochs = 10\n",
        "#training model\n",
        "train_losses = train_finetune_model(vgg16, train_loader, num_epochs)"
      ]
    },
    {
      "cell_type": "code",
      "execution_count": 19,
      "metadata": {
        "id": "QabGLfNJpzRQ"
      },
      "outputs": [],
      "source": [
        "# Definging function to evaluate model\n",
        "def evaluate_model(model, test_loader):\n",
        "    model.eval()  # Setting the model to evaluation mode\n",
        "    correct = 0\n",
        "    total = 0\n",
        "    with torch.no_grad():\n",
        "        for images, labels in test_loader:\n",
        "            images = images.to(device)\n",
        "            labels = labels.to(device)\n",
        "            outputs = model(images)\n",
        "            _, predicted = torch.max(outputs.data, 1)\n",
        "            total += labels.size(0)\n",
        "            correct += (predicted == labels).sum().item()\n",
        "\n",
        "    accuracy = 100 * correct / total\n",
        "    return accuracy"
      ]
    },
    {
      "cell_type": "code",
      "execution_count": 20,
      "metadata": {
        "id": "4TheEbSps31u"
      },
      "outputs": [],
      "source": [
        "#evaluating the model\n",
        "finetuned_accuracy = evaluate_model(vgg16, test_loader)"
      ]
    },
    {
      "cell_type": "code",
      "execution_count": 21,
      "metadata": {
        "colab": {
          "base_uri": "https://localhost:8080/",
          "height": 490
        },
        "id": "XWi8sOJBs4lF",
        "outputId": "f5201713-308c-40bb-9da0-d4f935a33560"
      },
      "outputs": [
        {
          "output_type": "display_data",
          "data": {
            "text/plain": [
              "<Figure size 640x480 with 1 Axes>"
            ],
            "image/png": "[encoded data removed]"
          },
          "metadata": {}
        },
        {
          "output_type": "stream",
          "name": "stdout",
          "text": [
            "Accuracy of the finetuned model on the test images: 44.83%\n"
          ]
        }
      ],
      "source": [
        "# Plotting  the training loss curve\n",
        "plt.plot(range(1, num_epochs+1), train_losses, label='Training Loss')\n",
        "plt.xlabel('Epoch')\n",
        "plt.ylabel('Loss')\n",
        "plt.title('Training Loss Curve')\n",
        "plt.legend()\n",
        "plt.show()\n",
        "\n",
        "#print('Accuracy of the model (from scratch) on the test images: {:.2f}%'.format(accuracy))\n",
        "print('Accuracy of the finetuned model on the test images: {:.2f}%'.format(finetuned_accuracy))"
      ]
    },
    {
      "cell_type": "code",
      "execution_count": 21,
      "metadata": {
        "id": "hG-9701ktCS9"
      },
      "outputs": [],
      "source": []
    }
  ],
  "metadata": {
    "accelerator": "GPU",
    "colab": {
      "gpuType": "T4",
      "provenance": []
    },
    "kernelspec": {
      "display_name": "Python 3",
      "name": "python3"
    },
    "language_info": {
      "codemirror_mode": {
        "name": "ipython",
        "version": 3
      },
      "file_extension": ".py",
      "mimetype": "text/x-python",
      "name": "python",
      "nbconvert_exporter": "python",
      "pygments_lexer": "ipython3",
      "version": "3.7.6"
    }
  },
  "nbformat": 4,
  "nbformat_minor": 0
}